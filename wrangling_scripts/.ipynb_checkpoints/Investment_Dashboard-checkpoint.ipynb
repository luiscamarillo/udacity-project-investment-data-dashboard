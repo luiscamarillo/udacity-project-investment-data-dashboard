{
 "cells": [
  {
   "cell_type": "code",
   "execution_count": 1,
   "id": "c6968f05",
   "metadata": {},
   "outputs": [],
   "source": [
    "import pandas as pd\n",
    "import yfinance as yf  \n",
    "import matplotlib.pyplot as plt\n",
    "import dateparser\n",
    "import os\n",
    "#import datetime as dt\n",
    "import numpy as np\n",
    "from datetime import datetime, timedelta\n",
    "import plotly.graph_objs as go"
   ]
  },
  {
   "cell_type": "code",
   "execution_count": 2,
   "id": "d544f8e6",
   "metadata": {},
   "outputs": [],
   "source": [
    "import warnings\n",
    "warnings.filterwarnings(\n",
    "    \"ignore\",\n",
    "    message=\"The localize method is no longer necessary, as this time zone supports the fold attribute\",\n",
    ")"
   ]
  },
  {
   "cell_type": "markdown",
   "id": "f6438a00",
   "metadata": {},
   "source": [
    "# Import Investment Data"
   ]
  },
  {
   "cell_type": "code",
   "execution_count": 3,
   "id": "dc909618",
   "metadata": {},
   "outputs": [],
   "source": [
    "# Import all csv files in data folder\n",
    "path = os.path.dirname(os.path.abspath(os.getcwd()))\n",
    "files = os.listdir(f'{path}/data')\n",
    "\n",
    "dfs = []\n",
    "\n",
    "for filename in files:\n",
    "    df = pd.read_csv(f\"{path}/data/{filename}\")\n",
    "    dfs.append(df)\n",
    "\n",
    "# Create single df wiht all investment data available\n",
    "transactions_df = pd.concat(dfs)"
   ]
  },
  {
   "cell_type": "markdown",
   "id": "e44669ec",
   "metadata": {},
   "source": [
    "# Data Preparation"
   ]
  },
  {
   "cell_type": "code",
   "execution_count": 71,
   "id": "3076e758",
   "metadata": {},
   "outputs": [],
   "source": [
    "# Keep only buying transaction\n",
    "transactions_df.dropna(inplace=True)\n",
    "transactions_stocks_df = transactions_df[transactions_df['Descripción'] == \"Compra de Acciones.\"]\n",
    "# Rename cols\n",
    "transactions_stocks_df.columns = ['STOCK', 'DATE', 'TIME', 'DESCRIPTION', 'TITLES', 'PRICE', \n",
    "                                  'RATE', 'TERM', 'INTEREST', 'TAXES', 'FEES', 'AMOUNT', 'BALANCE']\n",
    "# Keep only relevant cols\n",
    "transactions_stocks_df = transactions_stocks_df[['STOCK', 'DATE', 'TITLES', 'PRICE', \n",
    "                                                 'TAXES', 'FEES', 'AMOUNT']].reset_index(drop=True)\n",
    "# Convert values to numeric\n",
    "for col in ['PRICE', 'TAXES', 'FEES', 'AMOUNT']:\n",
    "    transactions_stocks_df[col] = transactions_stocks_df[col].str.replace(',', '', regex=False) \\\n",
    "                                                             .str.replace('$', '', regex=False).astype(float)\n",
    "\n",
    "# Parse dates in Spanish\n",
    "transactions_stocks_df['DATE'] = transactions_stocks_df['DATE'].apply(lambda x: dateparser.parse(x))\n",
    "transactions_stocks_df.sort_values('DATE', inplace=True)\n",
    "\n",
    "# Add \".MX\" to ticker to consult BMV\n",
    "transactions_stocks_df['STOCK'] = transactions_stocks_df['STOCK'].str[:-2] + '.MX'\n",
    "\n",
    "# Convert numbert of titles bought to numeric\n",
    "transactions_stocks_df['TITLES'] = pd.to_numeric(transactions_stocks_df['TITLES'])\n",
    "\n",
    "# Total invested\n",
    "transactions_stocks_df['INVESTED'] = round(transactions_stocks_df['PRICE'] * transactions_stocks_df['TITLES'], 2)"
   ]
  },
  {
   "cell_type": "markdown",
   "id": "17c41a04",
   "metadata": {},
   "source": [
    "# Creating graphs"
   ]
  },
  {
   "cell_type": "markdown",
   "id": "9bd010cc",
   "metadata": {},
   "source": [
    "## Invested per month\n",
    "\n",
    "Get a dataframe with total amount of money invested each month."
   ]
  },
  {
   "cell_type": "code",
   "execution_count": 5,
   "id": "1ca405d3",
   "metadata": {},
   "outputs": [],
   "source": [
    "monthly_investments_df = transactions_stocks_df.groupby([transactions_stocks_df.DATE.dt.to_period('M')]).sum().reset_index()"
   ]
  },
  {
   "cell_type": "code",
   "execution_count": 6,
   "id": "f1056ee3",
   "metadata": {},
   "outputs": [],
   "source": [
    "# Make sure we have every month between first month and today\n",
    "all_months_df = pd.DataFrame(pd.date_range(start = monthly_investments_df.DATE.min().to_timestamp(), \n",
    "                                 end = datetime.now(), freq='M'), columns=['DATE'])\n",
    "\n",
    "all_months_df['DATE'] = all_months_df['DATE'].dt.to_period('M')\n",
    "\n",
    "# Merge to add all months\n",
    "monthly_investments_df = all_months_df.merge(monthly_investments_df, how='left')\n",
    "\n",
    "# Fills nas w/ 0 in case a month is empty\n",
    "monthly_investments_df[monthly_investments_df.columns[1:]] = monthly_investments_df[monthly_investments_df.columns[1:]]\\\n",
    "                                                                                    .fillna(0)"
   ]
  },
  {
   "cell_type": "markdown",
   "id": "4c509771",
   "metadata": {},
   "source": [
    "### Investment per month chart\n",
    "Line chart with Date (month) on x-axis, amount invested (pesos) in y-axis."
   ]
  },
  {
   "cell_type": "code",
   "execution_count": 7,
   "id": "82712601",
   "metadata": {},
   "outputs": [],
   "source": [
    "graph_one = []\n",
    "\n",
    "graph_one.append(\n",
    "      go.Scatter(\n",
    "      x = monthly_investments_df.DATE.astype(str).tolist(),\n",
    "      y = round(monthly_investments_df.AMOUNT).tolist(),\n",
    "      )\n",
    "    )\n",
    "\n",
    "\n",
    "layout_one = dict(title = 'Amount Invested per Month',\n",
    "            xaxis = dict(title = 'Date'),\n",
    "            yaxis = dict(title = 'Pesos ($)'),\n",
    "            )\n"
   ]
  },
  {
   "cell_type": "markdown",
   "id": "e1b40b2f",
   "metadata": {},
   "source": [
    "## Portfolio value over time\n",
    "Create dataframe with portfolio value over time based on number of shares owned cumulative since the first date, and actual value of stock per day."
   ]
  },
  {
   "cell_type": "code",
   "execution_count": 8,
   "id": "2ecc04a9",
   "metadata": {},
   "outputs": [
    {
     "name": "stdout",
     "output_type": "stream",
     "text": [
      "[*********************100%***********************]  4 of 4 completed\n"
     ]
    }
   ],
   "source": [
    "# Get list of unique stocks in portfolio\n",
    "stocks_cols = transactions_stocks_df.STOCK.unique().tolist()\n",
    "\n",
    "# Download financial data for each stock per day, starting from the first date with available data\n",
    "yesterday = datetime.today() - timedelta(days=1)\n",
    "stocks_df = yf.download(stocks_cols, transactions_stocks_df.DATE.min(), yesterday)\n",
    "\n",
    "# Keep only Adjusted Close, ie, final price of stock for the day\n",
    "stocks_close_df = stocks_df[['Adj Close']]\n",
    "\n",
    "# Fix multi-index to keep, add suffix per stock to signify closin price\n",
    "stocks_close_df.columns = stocks_close_df.columns.get_level_values(1)\n",
    "stocks_close_df = stocks_close_df.add_suffix('_CLOSE').reset_index()\n",
    "stocks_close_df.rename(columns={'Date':'DATE'}, inplace=True)"
   ]
  },
  {
   "cell_type": "code",
   "execution_count": 9,
   "id": "9e4eda62",
   "metadata": {},
   "outputs": [],
   "source": [
    "# Create cummulative dataframe with transactions data, keeping only stocks, date, and titles cols\n",
    "cum_stocks_df = transactions_stocks_df[['STOCK', 'DATE', 'TITLES']]\n",
    "\n",
    "# Groupby per date to find how many titles of each stock were bought per day, regardless of number of transactions\n",
    "cum_stocks_df = cum_stocks_df.groupby(['STOCK', 'DATE'], as_index=False).sum()\n",
    "\n",
    "# Add a cummulative counter of titles owned per stock each transaction day\n",
    "cum_stocks_df['CUM_TITLES'] = cum_stocks_df.groupby(['STOCK'])['TITLES'].cumsum()"
   ]
  },
  {
   "cell_type": "code",
   "execution_count": 10,
   "id": "22da4183",
   "metadata": {},
   "outputs": [],
   "source": [
    "# Create pivot table from cumulative stocks to create a col per stock ticker, with titles owned as data per date\n",
    "cum_stocks_pivot_df = pd.pivot_table(cum_stocks_df, index='DATE', columns='STOCK', \n",
    "                                     values='CUM_TITLES', aggfunc='sum').reset_index()\n",
    "# Fill forward, to maintain cummulative tracking in case new shares aren't bought each transaction date\n",
    "cum_stocks_pivot_df.fillna(method='ffill', inplace=True)"
   ]
  },
  {
   "cell_type": "code",
   "execution_count": 11,
   "id": "5e49127b",
   "metadata": {},
   "outputs": [],
   "source": [
    "# Add titles bought to closing data per stock, get data for every day, including days where not shares were bought\n",
    "# Fill nans forward to populate titles held on days with no transactions, then fill in the first days with 0\n",
    "cum_stocks_close_df = stocks_close_df.merge(cum_stocks_pivot_df, how='left').fillna(method='ffill').fillna(0)"
   ]
  },
  {
   "cell_type": "code",
   "execution_count": 12,
   "id": "6e04e0a4",
   "metadata": {},
   "outputs": [],
   "source": [
    "# Get cols with closing price data\n",
    "stocks_close_cols = [f\"{stock}_CLOSE\" for stock in stocks_cols]\n",
    "\n",
    "# Multiply numbers of titles held per stock with stock value at given day, \n",
    "# then add it all up to find total portfolio value for each given day\n",
    "cum_stocks_close_df['PORTFOLIO_VALUE'] = (cum_stocks_close_df[stocks_cols] * cum_stocks_close_df[stocks_close_cols].values) \\\n",
    "                                         .sum(axis=1)"
   ]
  },
  {
   "cell_type": "markdown",
   "id": "e742fc53",
   "metadata": {},
   "source": [
    "### Total portfolio value over time chart\n",
    "Line chart with Date (days) on x-axis, total portfolio value (pesos) in y-axis."
   ]
  },
  {
   "cell_type": "code",
   "execution_count": 13,
   "id": "474a11be",
   "metadata": {},
   "outputs": [],
   "source": [
    "graph_two = []\n",
    "\n",
    "graph_two.append(\n",
    "      go.Scatter(\n",
    "      x = cum_stocks_close_df.DATE.astype(str).tolist(),\n",
    "      y = round(cum_stocks_close_df.PORTFOLIO_VALUE).tolist(),\n",
    "      )\n",
    "    )\n",
    "\n",
    "\n",
    "layout_two = dict(title = 'Portfolio Value over Time',\n",
    "            xaxis = dict(title = 'Date'),\n",
    "            yaxis = dict(title = 'Pesos ($)'),\n",
    "            )"
   ]
  },
  {
   "cell_type": "markdown",
   "id": "0230397e",
   "metadata": {},
   "source": [
    "## Portfolio\n",
    "\n",
    "Create dataframe with total value, titles, and allocation percentage per stock in portfolio"
   ]
  },
  {
   "cell_type": "code",
   "execution_count": 14,
   "id": "b4e05eba",
   "metadata": {},
   "outputs": [],
   "source": [
    "# Get number of titles per stock\n",
    "portfolio_df = transactions_stocks_df.groupby('STOCK', as_index=False).sum()"
   ]
  },
  {
   "cell_type": "code",
   "execution_count": 15,
   "id": "e9b7c805",
   "metadata": {},
   "outputs": [],
   "source": [
    "# Get current prices per stock, from latest date in stocks_close_df\n",
    "curr_prices = []\n",
    "for stock_ticker in portfolio_df.STOCK:\n",
    "    curr_price = stocks_close_df[stocks_close_df.DATE == stocks_close_df.DATE.max()][f'{stock_ticker}_CLOSE'].iloc[0]\n",
    "    curr_prices.append(curr_price)\n",
    "\n",
    "# Add current prices\n",
    "portfolio_df['CURRENT_PRICE'] = curr_prices"
   ]
  },
  {
   "cell_type": "code",
   "execution_count": 16,
   "id": "c83e0a00",
   "metadata": {},
   "outputs": [],
   "source": [
    "# Get current value of portfolio per stock based on current prices\n",
    "portfolio_df['CURRENT_VALUE'] = round(portfolio_df['CURRENT_PRICE'] * portfolio_df['TITLES'], 2)\n",
    "\n",
    "# Add totals row\n",
    "portfolio_df = portfolio_df.append(portfolio_df.sum(numeric_only=True), ignore_index=True).fillna('Total')"
   ]
  },
  {
   "cell_type": "code",
   "execution_count": 17,
   "id": "8a4de0cf",
   "metadata": {},
   "outputs": [],
   "source": [
    "# Compute portfolio returns and percentage returns\n",
    "portfolio_df['RETURNS'] = round(portfolio_df['CURRENT_VALUE'] - portfolio_df['AMOUNT'], 2)\n",
    "portfolio_df['PER_RETURNS'] = round(portfolio_df['RETURNS']/portfolio_df['AMOUNT']*100, 2)"
   ]
  },
  {
   "cell_type": "code",
   "execution_count": 18,
   "id": "5ea1fad2",
   "metadata": {
    "scrolled": true
   },
   "outputs": [],
   "source": [
    "# Extract total current portfolio value\n",
    "current_porfolio_value = portfolio_df.query('STOCK == \"Total\"')['CURRENT_VALUE'].iloc[0]\n",
    "\n",
    "# Get stock allocation percentage within portfolio\n",
    "portfolio_df['PER_PORTAFOLIO'] = round(portfolio_df['CURRENT_VALUE'] / current_porfolio_value, 2)"
   ]
  },
  {
   "cell_type": "markdown",
   "id": "095837b6",
   "metadata": {},
   "source": [
    "### Total portfolio value over time chart\n",
    "Bar chart with Stocks on x-axis, allocation percentage in y-axis."
   ]
  },
  {
   "cell_type": "code",
   "execution_count": 19,
   "id": "dac16ced",
   "metadata": {},
   "outputs": [],
   "source": [
    "graph_three = []\n",
    "\n",
    "graph_three.append(\n",
    "      go.Bar(\n",
    "      x = portfolio_df[portfolio_df.STOCK != 'Total'].STOCK.tolist(),\n",
    "      y = portfolio_df[portfolio_df.STOCK != 'Total'].PER_PORTAFOLIO.tolist(),\n",
    "      )\n",
    "    )\n",
    "\n",
    "\n",
    "layout_three = dict(title = 'Portfolio Allocation',\n",
    "            xaxis = dict(title = 'Stocks'),\n",
    "            yaxis = dict(title = 'Allocation (%)'),\n",
    "            )"
   ]
  },
  {
   "cell_type": "markdown",
   "id": "0bed6346",
   "metadata": {},
   "source": [
    "## Monthly Returns\n",
    "\n",
    "Create dataframes with monthly returns and value per month."
   ]
  },
  {
   "cell_type": "code",
   "execution_count": 20,
   "id": "4cfe2f80",
   "metadata": {},
   "outputs": [],
   "source": [
    "# Groupby transactions df per month, stock, add up amount invested\n",
    "monthly_spent_df = transactions_stocks_df.groupby([transactions_stocks_df.DATE.dt.to_period('M'), 'STOCK']).sum().reset_index()\n",
    "\n",
    "# Create cummulative amount of titles held each month\n",
    "monthly_spent_df[['CUM_TITLES']] = monthly_spent_df.groupby(['STOCK'])[['TITLES']].cumsum()"
   ]
  },
  {
   "cell_type": "code",
   "execution_count": 21,
   "id": "7c3039a1",
   "metadata": {},
   "outputs": [],
   "source": [
    "# Create pivot table with a column for each stock held, with cummulative titles as values\n",
    "cum_monthly_titles_df = pd.pivot_table(monthly_spent_df, index='DATE', columns='STOCK',\n",
    "                                      values=['CUM_TITLES'], aggfunc='sum').reset_index().reset_index(drop=True)\n",
    "\n",
    "# Fix the multi-level index\n",
    "cum_monthly_titles_df.columns = cum_monthly_titles_df.columns.droplevel(0)\n",
    "cum_monthly_titles_df.rename(columns={'':'DATE'}, inplace=True)"
   ]
  },
  {
   "cell_type": "code",
   "execution_count": 22,
   "id": "3e0a840c",
   "metadata": {},
   "outputs": [],
   "source": [
    "# Forward fill to keep cummulative titles in case no stocks bough in a given month\n",
    "cum_monthly_inv_df = cum_monthly_titles_df.fillna(method='ffill')\n",
    "\n",
    "# Merge wiht monthly_investments_df to get amount invested per month\n",
    "cum_monthly_inv_df = cum_monthly_inv_df.merge(monthly_investments_df[['DATE', 'AMOUNT']])\n",
    "\n",
    "# Add up cummulative invested amount for running total\n",
    "cum_monthly_inv_df['CUM_AMOUNT'] = cum_monthly_inv_df['AMOUNT'].cumsum()\n",
    "\n",
    "# Fill nans with 0 for numeric cols\n",
    "cum_monthly_inv_df[cum_monthly_inv_df.columns[1:]] = cum_monthly_inv_df[cum_monthly_inv_df.columns[1:]].fillna(0)"
   ]
  },
  {
   "cell_type": "code",
   "execution_count": 23,
   "id": "831fc8db",
   "metadata": {},
   "outputs": [],
   "source": [
    "# Get adjusted close per stock for the last day of each month\n",
    "monthly_stocks_close_df = stocks_close_df.groupby([stocks_close_df.DATE.dt.to_period('M')]).last() \\\n",
    "                          .rename(columns={'DATE':'DAY'}).reset_index().drop('DAY', axis=1)"
   ]
  },
  {
   "cell_type": "code",
   "execution_count": 24,
   "id": "1c622ff0",
   "metadata": {},
   "outputs": [],
   "source": [
    "# Merge monthly portfolio with monthly adjusted closes\n",
    "monthly_inv_gains_df = monthly_stocks_close_df.merge(cum_monthly_inv_df, how='left').fillna(method='ffill')\n",
    "\n",
    "# Get monthly portfolio value pero month, multiplying number of titles times adjusted close\n",
    "monthly_inv_gains_df['PORTFOLIO_VALUE'] = (monthly_inv_gains_df[stocks_cols] * monthly_inv_gains_df[stocks_close_cols].values) \\\n",
    "                                         .sum(axis=1)\n",
    "\n",
    "# Calculate monthly returns\n",
    "monthly_inv_gains_df['RETURNS'] = round(monthly_inv_gains_df['PORTFOLIO_VALUE'] - monthly_inv_gains_df['CUM_AMOUNT'], 2)\n",
    "monthly_inv_gains_df['PER_RETURNS'] = round(monthly_inv_gains_df['RETURNS']/monthly_inv_gains_df['CUM_AMOUNT']*100, 2)\n",
    "\n",
    "# Add colors -- red when negative, green when positive\n",
    "monthly_inv_gains_df['COLOR'] = np.where(monthly_inv_gains_df['PER_RETURNS']<0, '#BC243C', '#88B04B')"
   ]
  },
  {
   "cell_type": "markdown",
   "id": "046397ab",
   "metadata": {},
   "source": [
    "### Monthly Investment Returns chart\n",
    "Bar/line chart with month on x-axis, returns and percentage returns in y-axes."
   ]
  },
  {
   "cell_type": "code",
   "execution_count": 25,
   "id": "4a3cbef6",
   "metadata": {},
   "outputs": [],
   "source": [
    "graph_four = []\n",
    "\n",
    "graph_four.append(\n",
    "      go.Bar(\n",
    "      x = monthly_inv_gains_df.DATE.astype(str).tolist(),\n",
    "      y = monthly_inv_gains_df.PER_RETURNS.tolist(),\n",
    "      marker_color = monthly_inv_gains_df['COLOR'],\n",
    "      yaxis='y',\n",
    "      name='Investment Returns Rate')\n",
    "    )\n",
    "\n",
    "# Add second layer with line chart on total money return with secondary axis\n",
    "graph_four.append(\n",
    "      go.Scatter(\n",
    "      x = monthly_inv_gains_df.DATE.astype(str).tolist(),\n",
    "      y = monthly_inv_gains_df.RETURNS.tolist(),\n",
    "      yaxis='y2',\n",
    "      name='Investment Returns ($)',\n",
    "      marker_color = '#5B5EA6'\n",
    "      )\n",
    "    )\n",
    "\n",
    "layout_four = dict(title = 'Investment Returns per Month',\n",
    "            xaxis = dict(title = 'Month'),\n",
    "            yaxis1 = dict(title = 'Investment Returns Rate (%)'),\n",
    "            yaxis2 = dict(title = 'Investment Returns ($)', overlaying=\"y\", side='right')\n",
    "            )"
   ]
  },
  {
   "cell_type": "markdown",
   "id": "2d11499e",
   "metadata": {},
   "source": [
    "# Values"
   ]
  },
  {
   "cell_type": "code",
   "execution_count": 26,
   "id": "e3e1e0df",
   "metadata": {},
   "outputs": [],
   "source": [
    "# Get value for total returns, returns percentage, potential monthly investment income\n",
    "current_returns = portfolio_df.query('STOCK == \"Total\"')['RETURNS'].iloc[0]\n",
    "current_per_returns = portfolio_df.query('STOCK == \"Total\"')['PER_RETURNS'].iloc[0]\n",
    "monthly_income = current_porfolio_value*(0.04/12)"
   ]
  },
  {
   "cell_type": "code",
   "execution_count": 56,
   "id": "618219d7",
   "metadata": {},
   "outputs": [],
   "source": [
    "# Create dataframe summary off portfolio_df\n",
    "total_summary_df = portfolio_df.T.reset_index()\n",
    "total_summary_df.columns = total_summary_df.loc[0]\n",
    "\n",
    "# Keep only relevant values, cols\n",
    "total_summary_df = total_summary_df[['STOCK', 'Total']]\n",
    "total_summary_df = total_summary_df[total_summary_df.STOCK.isin(['INVESTED', 'TAXES', 'FEES', 'AMOUNT'])]\n",
    "total_summary_df.columns = ['Category', 'Total']\n",
    "\n",
    "total_summary_df['Total'] = total_summary_df['Total'].apply(lambda x: \"${:,}\".format(round(x, 2)))\n",
    "\n",
    "# Replace with nicer strings\n",
    "total_summary_df.replace({\n",
    "    'Category':{\n",
    "        'INVESTED':'Total Invested',\n",
    "        'TAXES': 'Witheld Taxes',\n",
    "        'FEES': 'Fees',\n",
    "        'AMOUNT': 'Total Spent'\n",
    "    }\n",
    "}, inplace=True)"
   ]
  },
  {
   "cell_type": "code",
   "execution_count": 57,
   "id": "9ac120e7",
   "metadata": {},
   "outputs": [],
   "source": [
    "# Create dictionary with key values, total_summary_df\n",
    "values_dict = {\n",
    "    'current_porfolio_value': \"{:,}\".format(current_porfolio_value),\n",
    "    'current_returns': \"{:,}\".format(current_returns),\n",
    "    'current_per_returns': current_per_returns,\n",
    "    'monthly_income': \"{:,}\".format(monthly_income),\n",
    "    'total_summary_df': total_summary_df.values.tolist()\n",
    "}"
   ]
  },
  {
   "cell_type": "code",
   "execution_count": 29,
   "id": "737a7138",
   "metadata": {},
   "outputs": [],
   "source": [
    "# Append all charts to the figures list\n",
    "figures = []\n",
    "figures.append(dict(data=graph_one, layout=layout_one))\n",
    "figures.append(dict(data=graph_two, layout=layout_two))\n",
    "figures.append(dict(data=graph_three, layout=layout_three))\n",
    "figures.append(dict(data=graph_four, layout=layout_four))"
   ]
  },
  {
   "cell_type": "code",
   "execution_count": 37,
   "id": "b60bb1cd",
   "metadata": {},
   "outputs": [
    {
     "data": {
      "text/plain": [
       "[['Total Invested', 74675.27],\n",
       " ['Witheld Taxes', 101.2],\n",
       " ['Fees', 632.6700000000001],\n",
       " ['Total Spent', 253789.67]]"
      ]
     },
     "execution_count": 37,
     "metadata": {},
     "output_type": "execute_result"
    }
   ],
   "source": []
  },
  {
   "cell_type": "code",
   "execution_count": 33,
   "id": "88e5f8dc",
   "metadata": {},
   "outputs": [],
   "source": [
    "list1=[5.0, 5.0, 5.0, 5.0, 5.0]\n",
    "list2=[10.0, 10.0, 10.0, 10.0, 10.0, 10.0, 10.0, 10.0, 10.0, 10.0, 10.0, 10.0]"
   ]
  },
  {
   "cell_type": "code",
   "execution_count": 34,
   "id": "345a8f71",
   "metadata": {},
   "outputs": [],
   "source": [
    "table_data = [[list1[i], list2[i]] for i in range(0, len(list1))]"
   ]
  },
  {
   "cell_type": "code",
   "execution_count": 35,
   "id": "c95590da",
   "metadata": {},
   "outputs": [
    {
     "data": {
      "text/plain": [
       "[[5.0, 10.0], [5.0, 10.0], [5.0, 10.0], [5.0, 10.0], [5.0, 10.0]]"
      ]
     },
     "execution_count": 35,
     "metadata": {},
     "output_type": "execute_result"
    }
   ],
   "source": [
    "table_data"
   ]
  },
  {
   "cell_type": "code",
   "execution_count": 30,
   "id": "b34f89f7",
   "metadata": {
    "scrolled": true
   },
   "outputs": [
    {
     "ename": "SyntaxError",
     "evalue": "'return' outside function (Temp/ipykernel_12632/2247142844.py, line 1)",
     "output_type": "error",
     "traceback": [
      "\u001b[1;36m  File \u001b[1;32m\"C:\\Users\\luisc\\AppData\\Local\\Temp/ipykernel_12632/2247142844.py\"\u001b[1;36m, line \u001b[1;32m1\u001b[0m\n\u001b[1;33m    return figures, values_dict\u001b[0m\n\u001b[1;37m    ^\u001b[0m\n\u001b[1;31mSyntaxError\u001b[0m\u001b[1;31m:\u001b[0m 'return' outside function\n"
     ]
    }
   ],
   "source": [
    "return figures, values_dict"
   ]
  }
 ],
 "metadata": {
  "kernelspec": {
   "display_name": "Python 3 (ipykernel)",
   "language": "python",
   "name": "python3"
  },
  "language_info": {
   "codemirror_mode": {
    "name": "ipython",
    "version": 3
   },
   "file_extension": ".py",
   "mimetype": "text/x-python",
   "name": "python",
   "nbconvert_exporter": "python",
   "pygments_lexer": "ipython3",
   "version": "3.9.7"
  }
 },
 "nbformat": 4,
 "nbformat_minor": 5
}
